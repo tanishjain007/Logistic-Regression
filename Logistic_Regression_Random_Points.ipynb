{
 "cells": [
  {
   "cell_type": "code",
   "execution_count": 1,
   "id": "a39bf629",
   "metadata": {},
   "outputs": [],
   "source": [
    "import numpy as np\n",
    "import matplotlib.pyplot as plt"
   ]
  },
  {
   "cell_type": "code",
   "execution_count": 2,
   "id": "1ed10076",
   "metadata": {},
   "outputs": [],
   "source": [
    "mean_1=np.array([12,19])\n",
    "mean_2=np.array([-10,-20])"
   ]
  },
  {
   "cell_type": "code",
   "execution_count": 3,
   "id": "3280b8c1",
   "metadata": {},
   "outputs": [],
   "source": [
    "cov_1=np.array([[1,15],[15,1]])\n",
    "cov_2=np.array([[1,10],[10,1]])"
   ]
  },
  {
   "cell_type": "code",
   "execution_count": 4,
   "id": "ad46d25f",
   "metadata": {},
   "outputs": [
    {
     "name": "stderr",
     "output_type": "stream",
     "text": [
      "C:\\Users\\Pratham Bisht\\AppData\\Local\\Temp\\ipykernel_24352\\1536199149.py:1: RuntimeWarning: covariance is not symmetric positive-semidefinite.\n",
      "  dist_1 = np.random.multivariate_normal(mean_1,cov_1,size=1000)\n",
      "C:\\Users\\Pratham Bisht\\AppData\\Local\\Temp\\ipykernel_24352\\1536199149.py:2: RuntimeWarning: covariance is not symmetric positive-semidefinite.\n",
      "  dist_2 = np.random.multivariate_normal(mean_2,cov_2,size=1000)\n"
     ]
    }
   ],
   "source": [
    "dist_1 = np.random.multivariate_normal(mean_1,cov_1,size=1000)\n",
    "dist_2 = np.random.multivariate_normal(mean_2,cov_2,size=1000)"
   ]
  },
  {
   "cell_type": "code",
   "execution_count": 5,
   "id": "a4304c72",
   "metadata": {},
   "outputs": [
    {
     "data": {
      "text/plain": [
       "((1000, 2), (1000, 2))"
      ]
     },
     "execution_count": 5,
     "metadata": {},
     "output_type": "execute_result"
    }
   ],
   "source": [
    "dist_1.shape, dist_2.shape"
   ]
  },
  {
   "cell_type": "code",
   "execution_count": 6,
   "id": "e6f5faec",
   "metadata": {},
   "outputs": [
    {
     "data": {
      "image/png": "[encoded data removed]",
      "text/plain": [
       "<Figure size 640x480 with 1 Axes>"
      ]
     },
     "metadata": {},
     "output_type": "display_data"
    }
   ],
   "source": [
    "plt.scatter(dist_1[:, 0],dist_1[:,1],c='green')\n",
    "plt.scatter(dist_2[:, 0],dist_2[:,1],c='blue')\n",
    "plt.show()"
   ]
  },
  {
   "cell_type": "code",
   "execution_count": 7,
   "id": "124cfc03",
   "metadata": {},
   "outputs": [],
   "source": [
    "dataset = np.zeros((2000, 3))\n",
    "\n",
    "dataset[:1000, :-1] = dist_1 # First 1000 rows and first 2 cols are part of dist_1\n",
    "dataset[1000:, :-1] = dist_2 # last 1000 rows and first 2 cols are part of dist_2\n",
    "\n",
    "#Last col is 0 so we kept first 1000 values of last col as 0 and last 1000 values as 1 because label of every datapoint is not 0\n",
    "dataset[1000:, -1] = 1      "
   ]
  },
  {
   "cell_type": "code",
   "execution_count": 8,
   "id": "8f325a63",
   "metadata": {},
   "outputs": [],
   "source": [
    "u = np.mean(dataset[:, : -1], axis = 0)\n",
    "std = np.std(dataset[:, : -1], axis = 0)\n",
    "dataset[:, : -1] = (dataset[:, : -1] - u)/std"
   ]
  },
  {
   "cell_type": "code",
   "execution_count": 9,
   "id": "9c3c3933",
   "metadata": {},
   "outputs": [],
   "source": [
    "ones = np.ones((dataset.shape[0], 1))\n",
    "dataset = np.hstack((ones, dataset))"
   ]
  },
  {
   "cell_type": "code",
   "execution_count": 10,
   "id": "1462840e",
   "metadata": {},
   "outputs": [],
   "source": [
    "''' This is because when we train a 2yr old to recognize cat and dog ,we dont first show them all the photos of cat or all \n",
    "the photos of dog we show shuffled photo like 1 of dog then cat then dog then again cat.'''\n",
    "\n",
    "np.random.shuffle(dataset)"
   ]
  },
  {
   "cell_type": "code",
   "execution_count": 11,
   "id": "87fd1c96",
   "metadata": {},
   "outputs": [
    {
     "name": "stdout",
     "output_type": "stream",
     "text": [
      "[[ 1.         -0.8300418  -0.81934912  1.        ]\n",
      " [ 1.          0.9700301   1.00856557  0.        ]\n",
      " [ 1.          1.20840583  1.24851481  0.        ]\n",
      " [ 1.         -0.86505688 -1.13045199  1.        ]\n",
      " [ 1.         -0.8022149  -0.96786687  1.        ]\n",
      " [ 1.          1.17182248  1.17893675  0.        ]\n",
      " [ 1.          1.64710183  0.85584024  0.        ]\n",
      " [ 1.          0.82638628  1.04940033  0.        ]\n",
      " [ 1.          0.82025475  0.92440224  0.        ]\n",
      " [ 1.         -0.79057974 -0.89830908  1.        ]]\n"
     ]
    }
   ],
   "source": [
    "print(dataset[:10])"
   ]
  },
  {
   "cell_type": "code",
   "execution_count": 12,
   "id": "9c7596d9",
   "metadata": {},
   "outputs": [],
   "source": [
    "split = 0.8\n",
    "\n",
    "train_X = dataset[:int(split * dataset.shape[0]), :-1]\n",
    "test_X = dataset[int(split * dataset.shape[0]):, :-1]\n",
    "train_Y = dataset[:int(split * dataset.shape[0]), -1]\n",
    "test_Y = dataset[int(split * dataset.shape[0]):, -1]"
   ]
  },
  {
   "cell_type": "code",
   "execution_count": 13,
   "id": "fcd4278d",
   "metadata": {},
   "outputs": [
    {
     "name": "stdout",
     "output_type": "stream",
     "text": [
      "(1600, 3) (400, 3) (1600,) (400,)\n"
     ]
    }
   ],
   "source": [
    "print(train_X.shape, test_X.shape, train_Y.shape, test_Y.shape)"
   ]
  },
  {
   "cell_type": "code",
   "execution_count": 14,
   "id": "7de456a9",
   "metadata": {},
   "outputs": [],
   "source": [
    "def hypothesis(X, weights):\n",
    "    return 1 / (1 + np.exp(-1 * np.dot(X, weights)))"
   ]
  },
  {
   "cell_type": "code",
   "execution_count": 15,
   "id": "c9066a0b",
   "metadata": {},
   "outputs": [],
   "source": [
    "def loss_func(X, weights, Y):\n",
    "    Y_pred = hypothesis(X, weights)\n",
    "    loss = np.mean(Y * np.log(Y_pred) + (1 - Y) * np.log(1 - Y_pred))\n",
    "    return -1 * loss"
   ]
  },
  {
   "cell_type": "code",
   "execution_count": 16,
   "id": "035353ab",
   "metadata": {},
   "outputs": [],
   "source": [
    "def gradient(X, Y, weight):\n",
    "    y_pred = hypothesis(X, weight)\n",
    "    grad = np.dot(X.T, (Y - y_pred))\n",
    "        \n",
    "    return grad/X.shape[0]"
   ]
  },
  {
   "cell_type": "code",
   "execution_count": 17,
   "id": "7ccc508d",
   "metadata": {},
   "outputs": [],
   "source": [
    "def gradient_descent(X, Y):\n",
    "    weights = np.zeros((X.shape[1], ))\n",
    "    lr_rate = 0.03\n",
    "    loss_epoch = []\n",
    "    \n",
    "    epochs = 10000\n",
    "    \n",
    "    for i in range(epochs):\n",
    "        \n",
    "        grad = gradient(X, Y, weights)\n",
    "        \n",
    "        loss_epoch.append(loss_func(X, weights, Y))\n",
    "        \n",
    "        weights = weights + lr_rate * grad\n",
    "        \n",
    "    return weights, loss_epoch"
   ]
  },
  {
   "cell_type": "code",
   "execution_count": 18,
   "id": "69535578",
   "metadata": {},
   "outputs": [
    {
     "name": "stdout",
     "output_type": "stream",
     "text": [
      "0.8910675048828125\n"
     ]
    }
   ],
   "source": [
    "import time\n",
    "start = time.time()\n",
    "weights, loss_epoch = gradient_descent(train_X, train_Y)\n",
    "print(time.time() - start)"
   ]
  },
  {
   "cell_type": "code",
   "execution_count": 19,
   "id": "e2f49e49",
   "metadata": {},
   "outputs": [
    {
     "data": {
      "text/plain": [
       "[]"
      ]
     },
     "execution_count": 19,
     "metadata": {},
     "output_type": "execute_result"
    },
    {
     "data": {
      "image/png": "[encoded data removed]",
      "text/plain": [
       "<Figure size 640x480 with 1 Axes>"
      ]
     },
     "metadata": {},
     "output_type": "display_data"
    }
   ],
   "source": [
    "plt.plot(loss_epoch)\n",
    "plt.plot()"
   ]
  },
  {
   "cell_type": "raw",
   "id": "c7ff7e07",
   "metadata": {},
   "source": [
    "In Logistic Regression 1st loss value i.e. 0.6931471805599452 in this case is same for everyone\n",
    "Reason-:\n",
    "\n",
    "def hypothesis(X, weights):\n",
    "    return 1 / (1 + np.exp(-1 * np.dot(X, weights))),initially our weight is 0 so this 1 /(1 + np.exp(-1 * np.dot(X, weights)))                                                      will give us 1/2 as output\n",
    "\n",
    "def loss_func(X, weights, Y):\n",
    "    Y_pred = hypothesis(X, weights)\n",
    "    loss = np.mean(Y * np.log(Y_pred) + (1 - Y) * np.log(1 - Y_pred)), in this eq suppose y=1 then this equation                                                                                        (1 - Y) * np.log(1 - Y_pred) will give 0 as output\n",
    "    return -1 * loss                                            then loss = Y * np.log(Y_pred) = 1*ln(1/2) = -0.6931471805599452\n",
    "                                                                return -1*loss = 0.6931471805599452"
   ]
  },
  {
   "cell_type": "code",
   "execution_count": 20,
   "id": "ee8c23f5",
   "metadata": {
    "scrolled": true
   },
   "outputs": [
    {
     "data": {
      "text/plain": [
       "[0.6931471805599452,\n",
       " 0.6791247072942765,\n",
       " 0.6655088692749138,\n",
       " 0.6522876480281304,\n",
       " 0.6394492205963128]"
      ]
     },
     "execution_count": 20,
     "metadata": {},
     "output_type": "execute_result"
    }
   ],
   "source": [
    "loss_epoch[:5]"
   ]
  },
  {
   "cell_type": "code",
   "execution_count": 21,
   "id": "13c648d5",
   "metadata": {},
   "outputs": [
    {
     "data": {
      "text/plain": [
       "array([-0.09213871, -3.16923531, -3.66660064])"
      ]
     },
     "execution_count": 21,
     "metadata": {},
     "output_type": "execute_result"
    }
   ],
   "source": [
    "weights"
   ]
  },
  {
   "cell_type": "raw",
   "id": "47d216df",
   "metadata": {},
   "source": [
    "array([-0.08983824, -3.15386844, -3.69494145])\n",
    "             w0           w1            w2\n",
    "             \n",
    "In the first plot of this code we will draw a best fit line(straight line) its equation will be w0 + w1x + w2y = 0 now we will convert it into y=mx+c\n",
    "\n",
    "so,y = -(w1x + w0)/w2\n"
   ]
  },
  {
   "cell_type": "code",
   "execution_count": 22,
   "id": "791677d4",
   "metadata": {},
   "outputs": [],
   "source": [
    "X=np.arange(-20,30)"
   ]
  },
  {
   "cell_type": "code",
   "execution_count": 23,
   "id": "a76fc241",
   "metadata": {},
   "outputs": [],
   "source": [
    "Y=-(weights[1]*X + weights[0])/weights[2]"
   ]
  },
  {
   "cell_type": "code",
   "execution_count": 24,
   "id": "3f09cc01",
   "metadata": {},
   "outputs": [
    {
     "data": {
      "image/png": "[encoded data removed]",
      "text/plain": [
       "<Figure size 640x480 with 1 Axes>"
      ]
     },
     "metadata": {},
     "output_type": "display_data"
    }
   ],
   "source": [
    "plt.scatter(dist_1[:, 0],dist_1[:,1],c='green')\n",
    "plt.scatter(dist_2[:, 0],dist_2[:,1],c='blue')\n",
    "plt.plot(X,Y,c='black')\n",
    "plt.show()"
   ]
  },
  {
   "cell_type": "code",
   "execution_count": 25,
   "id": "f85eb415",
   "metadata": {},
   "outputs": [],
   "source": [
    "def predict(X,weights):\n",
    "    pred=hypothesis(X,weights)\n",
    "#     print(pred)\n",
    "    if pred>0.5:\n",
    "        return 1\n",
    "    else:\n",
    "        return 0"
   ]
  },
  {
   "cell_type": "code",
   "execution_count": 26,
   "id": "e9347fe1",
   "metadata": {},
   "outputs": [
    {
     "name": "stdout",
     "output_type": "stream",
     "text": [
      "0 0.0\n"
     ]
    }
   ],
   "source": [
    "print(predict(test_X[11],weights),test_Y[11])"
   ]
  },
  {
   "cell_type": "code",
   "execution_count": 27,
   "id": "70c34e9b",
   "metadata": {},
   "outputs": [
    {
     "name": "stdout",
     "output_type": "stream",
     "text": [
      "1 1.0\n",
      "1 1.0\n",
      "1 1.0\n",
      "1 1.0\n",
      "0 0.0\n",
      "1 1.0\n",
      "0 0.0\n",
      "0 0.0\n",
      "0 0.0\n",
      "1 1.0\n",
      "0 0.0\n",
      "0 0.0\n",
      "0 0.0\n",
      "0 0.0\n",
      "0 0.0\n",
      "1 1.0\n",
      "1 1.0\n",
      "1 1.0\n",
      "1 1.0\n",
      "1 1.0\n",
      "1 1.0\n",
      "1 1.0\n",
      "1 1.0\n",
      "1 1.0\n",
      "1 1.0\n",
      "1 1.0\n",
      "0 0.0\n",
      "0 0.0\n",
      "0 0.0\n",
      "1 1.0\n",
      "1 1.0\n",
      "0 0.0\n",
      "1 1.0\n",
      "1 1.0\n",
      "1 1.0\n",
      "0 0.0\n",
      "1 1.0\n",
      "1 1.0\n",
      "0 0.0\n",
      "0 0.0\n",
      "0 0.0\n",
      "0 0.0\n",
      "0 0.0\n",
      "0 0.0\n",
      "0 0.0\n",
      "0 0.0\n",
      "1 1.0\n",
      "0 0.0\n",
      "0 0.0\n",
      "1 1.0\n",
      "1 1.0\n",
      "0 0.0\n",
      "0 0.0\n",
      "0 0.0\n",
      "1 1.0\n",
      "0 0.0\n",
      "0 0.0\n",
      "1 1.0\n",
      "0 0.0\n",
      "0 0.0\n",
      "0 0.0\n",
      "0 0.0\n",
      "0 0.0\n",
      "1 1.0\n",
      "0 0.0\n",
      "1 1.0\n",
      "0 0.0\n",
      "0 0.0\n",
      "0 0.0\n",
      "1 1.0\n",
      "1 1.0\n",
      "1 1.0\n",
      "0 0.0\n",
      "0 0.0\n",
      "0 0.0\n",
      "0 0.0\n",
      "1 1.0\n",
      "0 0.0\n",
      "1 1.0\n",
      "1 1.0\n",
      "0 0.0\n",
      "0 0.0\n",
      "0 0.0\n",
      "0 0.0\n",
      "0 0.0\n",
      "1 1.0\n",
      "1 1.0\n",
      "1 1.0\n",
      "0 0.0\n",
      "1 1.0\n",
      "0 0.0\n",
      "0 0.0\n",
      "1 1.0\n",
      "0 0.0\n",
      "1 1.0\n",
      "1 1.0\n",
      "0 0.0\n",
      "0 0.0\n",
      "1 1.0\n",
      "0 0.0\n",
      "0 0.0\n",
      "1 1.0\n",
      "0 0.0\n",
      "1 1.0\n",
      "1 1.0\n",
      "1 1.0\n",
      "1 1.0\n",
      "0 0.0\n",
      "1 1.0\n",
      "1 1.0\n",
      "0 0.0\n",
      "0 0.0\n",
      "0 0.0\n",
      "0 0.0\n",
      "1 1.0\n",
      "1 1.0\n",
      "0 0.0\n",
      "0 0.0\n",
      "1 1.0\n",
      "0 0.0\n",
      "1 1.0\n",
      "0 0.0\n",
      "0 0.0\n",
      "0 0.0\n",
      "0 0.0\n",
      "1 1.0\n",
      "1 1.0\n",
      "0 0.0\n",
      "1 1.0\n",
      "1 1.0\n",
      "0 0.0\n",
      "1 1.0\n",
      "1 1.0\n",
      "0 0.0\n",
      "0 0.0\n",
      "1 1.0\n",
      "0 0.0\n",
      "0 0.0\n",
      "0 0.0\n",
      "0 0.0\n",
      "1 1.0\n",
      "1 1.0\n",
      "0 0.0\n",
      "1 1.0\n",
      "1 1.0\n",
      "0 0.0\n",
      "1 1.0\n",
      "1 1.0\n",
      "0 0.0\n",
      "0 0.0\n",
      "1 1.0\n",
      "1 1.0\n",
      "1 1.0\n",
      "1 1.0\n",
      "1 1.0\n",
      "1 1.0\n",
      "0 0.0\n",
      "1 1.0\n",
      "0 0.0\n",
      "0 0.0\n",
      "0 0.0\n",
      "1 1.0\n",
      "1 1.0\n",
      "0 0.0\n",
      "0 0.0\n",
      "1 1.0\n",
      "0 0.0\n",
      "1 1.0\n",
      "1 1.0\n",
      "1 1.0\n",
      "1 1.0\n",
      "0 0.0\n",
      "1 1.0\n",
      "1 1.0\n",
      "0 0.0\n",
      "1 1.0\n",
      "1 1.0\n",
      "1 1.0\n",
      "1 1.0\n",
      "1 1.0\n",
      "0 0.0\n",
      "1 1.0\n",
      "0 0.0\n",
      "1 1.0\n",
      "1 1.0\n",
      "0 0.0\n",
      "1 1.0\n",
      "0 0.0\n",
      "0 0.0\n",
      "0 0.0\n",
      "0 0.0\n",
      "0 0.0\n",
      "1 1.0\n",
      "0 0.0\n",
      "0 0.0\n",
      "1 1.0\n",
      "1 1.0\n",
      "1 1.0\n",
      "1 1.0\n",
      "1 1.0\n",
      "1 1.0\n",
      "0 0.0\n",
      "0 0.0\n",
      "1 1.0\n",
      "1 1.0\n",
      "1 1.0\n",
      "0 0.0\n",
      "0 0.0\n",
      "0 0.0\n",
      "1 1.0\n",
      "0 0.0\n",
      "0 0.0\n",
      "0 0.0\n",
      "0 0.0\n",
      "1 1.0\n",
      "1 1.0\n",
      "1 1.0\n",
      "0 0.0\n",
      "0 0.0\n",
      "0 0.0\n",
      "1 1.0\n",
      "0 0.0\n",
      "1 1.0\n",
      "1 1.0\n",
      "0 0.0\n",
      "0 0.0\n",
      "1 1.0\n",
      "0 0.0\n",
      "0 0.0\n",
      "0 0.0\n",
      "0 0.0\n",
      "0 0.0\n",
      "1 1.0\n",
      "1 1.0\n",
      "1 1.0\n",
      "1 1.0\n",
      "1 1.0\n",
      "0 0.0\n",
      "0 0.0\n",
      "0 0.0\n",
      "0 0.0\n",
      "1 1.0\n",
      "1 1.0\n",
      "0 0.0\n",
      "0 0.0\n",
      "1 1.0\n",
      "1 1.0\n",
      "0 0.0\n",
      "0 0.0\n",
      "1 1.0\n",
      "1 1.0\n",
      "1 1.0\n",
      "0 0.0\n",
      "0 0.0\n",
      "1 1.0\n",
      "1 1.0\n",
      "1 1.0\n",
      "0 0.0\n",
      "1 1.0\n",
      "0 0.0\n",
      "1 1.0\n",
      "1 1.0\n",
      "1 1.0\n",
      "0 0.0\n",
      "1 1.0\n",
      "0 0.0\n",
      "1 1.0\n",
      "0 0.0\n",
      "1 1.0\n",
      "1 1.0\n",
      "1 1.0\n",
      "1 1.0\n",
      "0 0.0\n",
      "0 0.0\n",
      "0 0.0\n",
      "0 0.0\n",
      "0 0.0\n",
      "0 0.0\n",
      "1 1.0\n",
      "0 0.0\n",
      "1 1.0\n",
      "1 1.0\n",
      "1 1.0\n",
      "0 0.0\n",
      "0 0.0\n",
      "0 0.0\n",
      "0 0.0\n",
      "0 0.0\n",
      "0 0.0\n",
      "1 1.0\n",
      "0 0.0\n",
      "1 1.0\n",
      "0 0.0\n",
      "1 1.0\n",
      "0 0.0\n",
      "1 1.0\n",
      "1 1.0\n",
      "1 1.0\n",
      "0 0.0\n",
      "1 1.0\n",
      "0 0.0\n",
      "1 1.0\n",
      "0 0.0\n",
      "0 0.0\n",
      "1 1.0\n",
      "0 0.0\n",
      "0 0.0\n",
      "0 0.0\n",
      "1 1.0\n",
      "0 0.0\n",
      "1 1.0\n",
      "0 0.0\n",
      "1 1.0\n",
      "1 1.0\n",
      "1 1.0\n",
      "1 1.0\n",
      "1 1.0\n",
      "1 1.0\n",
      "0 0.0\n",
      "1 1.0\n",
      "1 1.0\n",
      "0 0.0\n",
      "0 0.0\n",
      "1 1.0\n",
      "1 1.0\n",
      "1 1.0\n",
      "1 1.0\n",
      "1 1.0\n",
      "1 1.0\n",
      "0 0.0\n",
      "1 1.0\n",
      "0 0.0\n",
      "0 0.0\n",
      "0 0.0\n",
      "1 1.0\n",
      "1 1.0\n",
      "1 1.0\n",
      "0 0.0\n",
      "1 1.0\n",
      "1 1.0\n",
      "0 0.0\n",
      "1 1.0\n",
      "0 0.0\n",
      "1 1.0\n",
      "0 0.0\n",
      "1 1.0\n",
      "0 0.0\n",
      "0 0.0\n",
      "1 1.0\n",
      "1 1.0\n",
      "1 1.0\n",
      "1 1.0\n",
      "1 1.0\n",
      "1 1.0\n",
      "0 0.0\n",
      "1 1.0\n",
      "0 0.0\n",
      "1 1.0\n",
      "1 1.0\n",
      "1 1.0\n",
      "1 1.0\n",
      "0 0.0\n",
      "1 1.0\n",
      "1 1.0\n",
      "1 1.0\n",
      "0 0.0\n",
      "1 1.0\n",
      "1 1.0\n",
      "1 1.0\n",
      "0 0.0\n",
      "1 1.0\n",
      "0 0.0\n",
      "1 1.0\n",
      "1 1.0\n",
      "1 1.0\n",
      "0 0.0\n",
      "1 1.0\n",
      "0 0.0\n",
      "0 0.0\n",
      "0 0.0\n",
      "0 0.0\n",
      "1 1.0\n",
      "0 0.0\n",
      "0 0.0\n",
      "0 0.0\n",
      "0 0.0\n",
      "1 1.0\n",
      "0 0.0\n",
      "1 1.0\n",
      "0 0.0\n",
      "0 0.0\n",
      "1 1.0\n",
      "0 0.0\n",
      "1 1.0\n",
      "0 0.0\n",
      "1 1.0\n",
      "1 1.0\n",
      "1 1.0\n",
      "0 0.0\n",
      "1 1.0\n"
     ]
    }
   ],
   "source": [
    "for i in range(test_X.shape[0]):\n",
    "    print(predict(test_X[i],weights),test_Y[i])"
   ]
  },
  {
   "cell_type": "code",
   "execution_count": 28,
   "id": "e2e31ae9",
   "metadata": {},
   "outputs": [
    {
     "name": "stdout",
     "output_type": "stream",
     "text": [
      "1.0\n"
     ]
    }
   ],
   "source": [
    "corr=0\n",
    "\n",
    "for i in range(test_X.shape[0]):\n",
    "    pred=predict(test_X[i],weights)\n",
    "    if pred==test_Y[i]:\n",
    "        corr+=1\n",
    "print(corr/test_X.shape[0])"
   ]
  },
  {
   "cell_type": "code",
   "execution_count": null,
   "id": "f25cb673",
   "metadata": {},
   "outputs": [],
   "source": []
  }
 ],
 "metadata": {
  "kernelspec": {
   "display_name": "Python 3 (ipykernel)",
   "language": "python",
   "name": "python3"
  },
  "language_info": {
   "codemirror_mode": {
    "name": "ipython",
    "version": 3
   },
   "file_extension": ".py",
   "mimetype": "text/x-python",
   "name": "python",
   "nbconvert_exporter": "python",
   "pygments_lexer": "ipython3",
   "version": "3.11.5"
  }
 },
 "nbformat": 4,
 "nbformat_minor": 5
}
